{
 "cells": [
  {
   "cell_type": "markdown",
   "id": "26b1fb89-ecc9-4b25-ae1f-51201a14273c",
   "metadata": {},
   "source": [
    "# Load the book"
   ]
  },
  {
   "cell_type": "code",
   "execution_count": 2,
   "id": "257125b2-08d9-4d41-9653-8ff0c97129f8",
   "metadata": {
    "tags": []
   },
   "outputs": [],
   "source": [
    "with open(\"miracle_in_the_andes.txt\",\"r\",encoding=\"utf-8\") as file:\n",
    "    book = file.read()"
   ]
  },
  {
   "cell_type": "code",
   "execution_count": 57,
   "id": "c15d7e6d-7ab8-4e78-a2b1-c27ca6dc1d55",
   "metadata": {
    "tags": []
   },
   "outputs": [
    {
     "data": {
      "text/plain": [
       "str"
      ]
     },
     "execution_count": 57,
     "metadata": {},
     "output_type": "execute_result"
    }
   ],
   "source": [
    "type(book)"
   ]
  },
  {
   "cell_type": "markdown",
   "id": "c3d39c51-fcdb-42ab-98a6-dbb69b88284a",
   "metadata": {},
   "source": [
    "# Extract the paragraph where \"love\" was used"
   ]
  },
  {
   "cell_type": "code",
   "execution_count": 40,
   "id": "bbc1fdac-42ad-4a1c-aad9-699690214dd5",
   "metadata": {
    "tags": []
   },
   "outputs": [
    {
     "data": {
      "text/plain": [
       "(60,\n",
       " ['To me, this is the essence of rugby. No other sport gives you such an intense sense of selflessness and unified purpose. I believe this is why rugby players all over the world feel such a passion for the game and such a feeling of brotherhood. As a young man, of course, I could not put these things into words, but I knew, and my teammates knew, that there was something special about the game, and under the guidance of the Christian Brothers we developed a passionate love for the sport that shaped our friendships and our lives. For eight years we played our hearts out for the Christian Brothers—a brotherhood of young boys with Latin names, playing a game with deep Anglo roots under Uruguay’s sunny skies, and proudly wearing the bright green shamrock on our uniforms. The game became so much a part of our lives, in fact, that when we graduated from Stella Maris at the age of sixteen, many of us could not bear the thought that our playing days were over. Our salvation came in the form of the Old Christians Club, a private rugby team formed in 1965 by previous alumni of the Stella Maris rugby program to give Stella Maris ruggers a chance to continue playing the game after our school years ended.',\n",
       "  'There were others—Alexis Hounie, Gastón Costemalle, Daniel Shaw—all of them great players and all of them my friends. But my oldest friend was Guido Magri. He and I had met on my first day at the Stella Maris School—I was eight years old and Guido was one year older—and we had been inseparable ever since. Guido and I grew up together, playing soccer and sharing a love of motorcycles, cars, and auto racing. When I was fifteen we both had mopeds that we had modified in silly ways—removing the mufflers, turn signals, and fenders—and we would ride them to Las Delicias, a famous ice cream parlor in our neighborhood, where we would drool over the girls from the nearby School Sagrado Corazón, hoping to impress them with our souped-up scooters. Guido was a dependable friend, with a good sense of humor and an easy laugh. He was also an outstanding scrum half, as quick and smart as a fox, with good hands and great courage. Under the guidance of the Christian Brothers, both of us grew to love the game of rugby with a consuming passion. As seasons passed we worked hard to improve our skills, and by the time I was fifteen we had each earned a spot on the Stella Maris First XV, the team’s starting lineup. After graduation, both of us went on to join the Old Christians and spent several happy seasons pursuing the high-octane social life of young rugby players. That rowdiness came to an abrupt end for Guido in 1969, when he met and fell in love with the beautiful daughter of a Chilean diplomat. She was now his fiancée, and he was happy to behave himself for her sake.'])"
      ]
     },
     "execution_count": 40,
     "metadata": {},
     "output_type": "execute_result"
    }
   ],
   "source": [
    "import re\n",
    "pattern = re.compile(\"[^\\n]+love[^\\n]+\")\n",
    "finding = re.findall(pattern,book)\n",
    "len(finding),finding[:2]"
   ]
  },
  {
   "cell_type": "code",
   "execution_count": 97,
   "id": "4e671244-695b-4097-8a3a-14e41bed124a",
   "metadata": {
    "tags": []
   },
   "outputs": [
    {
     "data": {
      "text/plain": [
       "(10,\n",
       " ['Before',\n",
       "  'Everything Precious',\n",
       "  'A Promise',\n",
       "  'Breathe Once More',\n",
       "  'Abandoned',\n",
       "  'Tomb',\n",
       "  'East',\n",
       "  'The Opposite of Death',\n",
       "  'I See a Man',\n",
       "  'After'])"
      ]
     },
     "execution_count": 97,
     "metadata": {},
     "output_type": "execute_result"
    }
   ],
   "source": [
    "title = re.compile(\"Chapter [0-9]+[\\n]+([^\\n]+)\")\n",
    "finding = re.findall(title, book)\n",
    "len(finding),finding"
   ]
  },
  {
   "cell_type": "code",
   "execution_count": 76,
   "id": "dbe36c50-e719-4bec-8f09-b5653678efef",
   "metadata": {
    "tags": []
   },
   "outputs": [
    {
     "data": {
      "text/plain": [
       "(['Before',\n",
       "  'Everything Precious',\n",
       "  'A Promise',\n",
       "  'Breathe Once More',\n",
       "  'Abandoned',\n",
       "  'Tomb',\n",
       "  'East',\n",
       "  'The Opposite of Death',\n",
       "  'I See a Man',\n",
       "  'After'],\n",
       " 10)"
      ]
     },
     "execution_count": 76,
     "metadata": {},
     "output_type": "execute_result"
    }
   ],
   "source": [
    "titles = [title.split(\"\\n\\n\")[1] for title in finding]\n",
    "titles, len(t"
   ]
  },
  {
   "cell_type": "code",
   "execution_count": 90,
   "id": "625d5890-72c0-4971-93ff-aaaf4d0aa314",
   "metadata": {
    "tags": []
   },
   "outputs": [],
   "source": [
    "def find_count(word):\n",
    "    pattern = re.compile(\"[A-Za-z]+\")\n",
    "    finding = re.findall(pattern, book.lower())\n",
    "    word_count={}\n",
    "    for each in finding:\n",
    "        if each in word_count:\n",
    "            word_count[each] +=1\n",
    "        else:\n",
    "            word_count[each]=1\n",
    "    try:\n",
    "        return word_count[word.lower()]\n",
    "    except KeyError:\n",
    "        print(f\"The book does not contain the word {word}\")"
   ]
  },
  {
   "cell_type": "code",
   "execution_count": 93,
   "id": "eb69db88-9f5c-4d21-b5ad-a7293359f9f6",
   "metadata": {
    "tags": []
   },
   "outputs": [
    {
     "data": {
      "text/plain": [
       "83"
      ]
     },
     "execution_count": 93,
     "metadata": {},
     "output_type": "execute_result"
    }
   ],
   "source": [
    "find_count(\"love\")"
   ]
  },
  {
   "cell_type": "code",
   "execution_count": null,
   "id": "4a36696a-caef-4e0d-b799-d618223fe691",
   "metadata": {},
   "outputs": [],
   "source": []
  }
 ],
 "metadata": {
  "kernelspec": {
   "display_name": "Python 3 (ipykernel)",
   "language": "python",
   "name": "python3"
  },
  "language_info": {
   "codemirror_mode": {
    "name": "ipython",
    "version": 3
   },
   "file_extension": ".py",
   "mimetype": "text/x-python",
   "name": "python",
   "nbconvert_exporter": "python",
   "pygments_lexer": "ipython3",
   "version": "3.11.3"
  }
 },
 "nbformat": 4,
 "nbformat_minor": 5
}
